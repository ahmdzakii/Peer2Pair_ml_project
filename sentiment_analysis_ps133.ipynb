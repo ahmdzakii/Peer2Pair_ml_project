{
  "cells": [
    {
      "cell_type": "markdown",
      "metadata": {
        "id": "view-in-github",
        "colab_type": "text"
      },
      "source": [
        "<a href=\"https://colab.research.google.com/github/fionatjahjono/ml_project/blob/main/sentiment_analysis_ps133.ipynb\" target=\"_parent\"><img src=\"https://colab.research.google.com/assets/colab-badge.svg\" alt=\"Open In Colab\"/></a>"
      ]
    },
    {
      "cell_type": "code",
      "execution_count": null,
      "metadata": {
        "id": "84260af5-b0fa-4e26-b9b2-3cd43ae7a27e"
      },
      "outputs": [],
      "source": [
        "# Bagian 1: Import Libraries dan Load Dataset\n",
        "!pip install emoji\n",
        "!pip install Sastrawi\n",
        "\n",
        "from flask import Flask, request, jsonify\n",
        "import nltk\n",
        "import pandas as pd\n",
        "import re\n",
        "from nltk.corpus import stopwords\n",
        "from Sastrawi.Stemmer.StemmerFactory import StemmerFactory\n",
        "from nltk.sentiment.vader import SentimentIntensityAnalyzer\n",
        "from sklearn.feature_extraction.text import CountVectorizer, TfidfVectorizer\n",
        "from sklearn.model_selection import train_test_split, GridSearchCV\n",
        "from sklearn.naive_bayes import MultinomialNB\n",
        "from sklearn.metrics import accuracy_score, confusion_matrix, classification_report"
      ],
      "id": "84260af5-b0fa-4e26-b9b2-3cd43ae7a27e"
    },
    {
      "cell_type": "code",
      "source": [
        "nltk.download('punkt')\n",
        "nltk.download('stopwords')\n",
        "nltk.download('words')\n",
        "nltk.download('vader_lexicon')"
      ],
      "metadata": {
        "id": "uDmTUDAB9IgK"
      },
      "id": "uDmTUDAB9IgK",
      "execution_count": null,
      "outputs": []
    },
    {
      "cell_type": "code",
      "execution_count": null,
      "metadata": {
        "id": "5051a45d-1867-44be-bb1e-7e46750b43ad"
      },
      "outputs": [],
      "source": [
        "data = pd.read_csv('/content/sentiment_analysis.csv')\n",
        "print(\"Shape of the dataset:\")\n",
        "print(data.shape)\n",
        "print(data.dtypes)\n",
        "print(data.head(2800))"
      ],
      "id": "5051a45d-1867-44be-bb1e-7e46750b43ad"
    },
    {
      "cell_type": "code",
      "execution_count": null,
      "metadata": {
        "id": "38be147e-2425-439a-bd7b-fb5ff71f0c0d"
      },
      "outputs": [],
      "source": [
        "ax = data['rating'].value_counts().sort_index().plot(kind='bar',\n",
        "          title='Count of Reviews by rating',\n",
        "          figsize=(6, 3))\n",
        "ax.set_xlabel('Review rating')"
      ],
      "id": "38be147e-2425-439a-bd7b-fb5ff71f0c0d"
    },
    {
      "cell_type": "code",
      "execution_count": null,
      "metadata": {
        "id": "8a258bd8-aea9-4969-827d-f8271ba56d9f"
      },
      "outputs": [],
      "source": [
        "#Preprocessing dan Feature Extraction\n",
        "def preprocess_text(text):\n",
        "    if isinstance(text, str):\n",
        "        text = text.lower()\n",
        "        text = re.sub(r'[?|$|.|!_:\")(-+,]', '', text)\n",
        "        text = re.sub(r'\\d+', '', text)\n",
        "        text = re.sub(r\"\\b[a-zA-Z]\\b\", \"\", text)\n",
        "        text = re.sub('\\s+',' ', text)\n",
        "        text = nltk.word_tokenize(text)\n",
        "        stop_words = set(stopwords.words('indonesian'))\n",
        "        text = [word for word in text if word.lower() not in stop_words]\n",
        "        factory = StemmerFactory()\n",
        "        stemmer = factory.create_stemmer()\n",
        "        text = [stemmer.stem(w) for w in text]\n",
        "        return ' '.join(text)\n",
        "    else:\n",
        "        return ''"
      ],
      "id": "8a258bd8-aea9-4969-827d-f8271ba56d9f"
    },
    {
      "cell_type": "code",
      "execution_count": null,
      "metadata": {
        "id": "f21d0064-2f57-4e7f-857c-82c636b27918"
      },
      "outputs": [],
      "source": [
        "data['processed_text'] = data['text'].apply(preprocess_text)"
      ],
      "id": "f21d0064-2f57-4e7f-857c-82c636b27918"
    },
    {
      "cell_type": "code",
      "execution_count": null,
      "metadata": {
        "id": "mSVdekSl28Ag"
      },
      "outputs": [],
      "source": [
        "sid = SentimentIntensityAnalyzer()\n",
        "data['vader_sentiment'] = data['processed_text'].apply(lambda x: 'positive' if sid.polarity_scores(x)['compound'] >= 0.05 else ('negative' if sid.polarity_scores(x)['compound'] <= -0.05 else 'neutral'))\n",
        "# Feature Extraction menggunakan CountVectorizer\n",
        "vocab = CountVectorizer().fit(data['processed_text'])\n",
        "x = vocab.transform(data['processed_text'])"
      ],
      "id": "mSVdekSl28Ag"
    },
    {
      "cell_type": "code",
      "execution_count": null,
      "metadata": {
        "id": "8e9INEmEHBII"
      },
      "outputs": [],
      "source": [
        "#Pembagian Data dan Model Training\n",
        "x_train, x_test, y_train, y_test, s_train, s_test = train_test_split(x, data['rating'], data['vader_sentiment'], test_size=0.2, random_state=100)\n"
      ],
      "id": "8e9INEmEHBII"
    },
    {
      "cell_type": "code",
      "execution_count": null,
      "metadata": {
        "id": "mBmAi4Lbgm1H"
      },
      "outputs": [],
      "source": [
        "# Parameter tuning for Multinomial Naive Bayes\n",
        "param_grid = {'alpha': [0.1, 0.5, 1.0, 1.5, 2.0]}\n",
        "grid_search = GridSearchCV(MultinomialNB(), param_grid, cv=5)\n",
        "grid_search.fit(x_train, y_train)\n",
        "best_mnb = grid_search.best_estimator_"
      ],
      "id": "mBmAi4Lbgm1H"
    },
    {
      "cell_type": "code",
      "execution_count": null,
      "metadata": {
        "id": "blSnX0hnuA-1"
      },
      "outputs": [],
      "source": [
        "# Use TF-IDF vectorization\n",
        "tfidf_vectorizer = TfidfVectorizer().fit(data['processed_text'])\n",
        "x_tfidf = tfidf_vectorizer.transform(data['processed_text'])\n",
        "x_train_tfidf, x_test_tfidf, _, _, _, _ = train_test_split(x_tfidf, data['rating'], data['vader_sentiment'], test_size=0.2, random_state=100)\n"
      ],
      "id": "blSnX0hnuA-1"
    },
    {
      "cell_type": "code",
      "execution_count": null,
      "metadata": {
        "id": "8faa2152-8ce2-4c11-ad41-aa918ea71a89"
      },
      "outputs": [],
      "source": [
        "# Retrain the model with TF-IDF vectorization\n",
        "best_mnb_tfidf = grid_search.best_estimator_\n",
        "best_mnb_tfidf.fit(x_train_tfidf, y_train)\n",
        "pred_mnb_tfidf = best_mnb_tfidf.predict(x_test_tfidf)"
      ],
      "id": "8faa2152-8ce2-4c11-ad41-aa918ea71a89"
    },
    {
      "cell_type": "code",
      "execution_count": null,
      "metadata": {
        "id": "iZKcAZVcebQx"
      },
      "outputs": [],
      "source": [
        "# Evaluate the model\n",
        "score_mnb_tfidf = round(accuracy_score(y_test, pred_mnb_tfidf) * 100, 2)\n",
        "print(\"Confusion Matrix for Multinomial Naive Bayes (TF-IDF):\")\n",
        "print(confusion_matrix(y_test, pred_mnb_tfidf))\n",
        "print(\"Score (TF-IDF):\", score_mnb_tfidf)\n",
        "print(\"Classification Report (TF-IDF):\")\n",
        "print(classification_report(y_test, pred_mnb_tfidf))"
      ],
      "id": "iZKcAZVcebQx"
    },
    {
      "cell_type": "code",
      "execution_count": null,
      "metadata": {
        "id": "C3srNCdgoNIk"
      },
      "outputs": [],
      "source": [
        "def predict_sentiment(review):\n",
        "    processed_review = preprocess_text(review)\n",
        "    review_vectorized = vocab.transform([processed_review])\n",
        "    sentiment_score = sid.polarity_scores(processed_review)['compound']\n",
        "    rating_prediction = best_mnb.predict(review_vectorized)[0]\n",
        "    if sentiment_score <= -0.05:\n",
        "        predicted_sentiment = 'negative'\n",
        "    elif sentiment_score >= 0.05:\n",
        "        predicted_sentiment = 'positive'\n",
        "    else:\n",
        "        predicted_sentiment = 'neutral'\n",
        "    return rating_prediction, predicted_sentiment"
      ],
      "id": "C3srNCdgoNIk"
    },
    {
      "cell_type": "code",
      "execution_count": null,
      "metadata": {
        "id": "WrU8phYN6ibe"
      },
      "outputs": [],
      "source": [
        "app = Flask(__name__)\n",
        "\n",
        "@app.route('/predict', methods=['POST'])\n",
        "def predict():\n",
        "    review = request.json['review']\n",
        "    rating_prediction, sentiment_prediction = predict_sentiment(review)\n",
        "    return jsonify({'rating': rating_prediction, 'sentiment': sentiment_prediction})\n",
        "\n",
        "if __name__ == '__main__':\n",
        "    app.run(debug=True)"
      ],
      "id": "WrU8phYN6ibe"
    },
    {
      "cell_type": "code",
      "execution_count": null,
      "metadata": {
        "id": "k8OJqt1jb-0s"
      },
      "outputs": [],
      "source": [
        "# Model Before Flask\n",
        "def predict_sentiment(review):\n",
        "    processed_review = preprocess_text(review)\n",
        "    review_vectorized = vocab.transform([processed_review])\n",
        "    sentiment_score = sid.polarity_scores(processed_review)['compound']\n",
        "    rating_prediction = best_mnb_tfidf.predict(review_vectorized)[0]\n",
        "    if sentiment_score <= -0.05:\n",
        "        predicted_sentiment = 'negative'\n",
        "    elif sentiment_score >= 0.05:\n",
        "        predicted_sentiment = 'positive'\n",
        "    else:\n",
        "        predicted_sentiment = 'neutral'\n",
        "    return rating_prediction, predicted_sentiment"
      ],
      "id": "k8OJqt1jb-0s"
    },
    {
      "cell_type": "code",
      "execution_count": null,
      "metadata": {
        "id": "667dl43Pb-0t"
      },
      "outputs": [],
      "source": [
        "pr = data['text'][120]\n",
        "print(pr)\n",
        "print(\"Actual Rating:\", data['rating'][2999])\n",
        "rating_pred, sentiment_pred = predict_sentiment(pr)\n",
        "print(\"Predicted Rating:\", rating_pred)\n",
        "print(\"Predicted Sentiment:\", sentiment_pred)\n"
      ],
      "id": "667dl43Pb-0t"
    }
  ],
  "metadata": {
    "colab": {
      "provenance": [],
      "include_colab_link": true
    },
    "kernelspec": {
      "display_name": "Python 3 (ipykernel)",
      "language": "python",
      "name": "python3"
    },
    "language_info": {
      "codemirror_mode": {
        "name": "ipython",
        "version": 3
      },
      "file_extension": ".py",
      "mimetype": "text/x-python",
      "name": "python",
      "nbconvert_exporter": "python",
      "pygments_lexer": "ipython3",
      "version": "3.9.12"
    }
  },
  "nbformat": 4,
  "nbformat_minor": 5
}