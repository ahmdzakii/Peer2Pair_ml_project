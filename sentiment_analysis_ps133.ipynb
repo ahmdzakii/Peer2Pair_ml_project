{
  "cells": [
    {
      "cell_type": "code",
      "execution_count": null,
      "metadata": {
        "id": "84260af5-b0fa-4e26-b9b2-3cd43ae7a27e",
        "colab": {
          "base_uri": "https://localhost:8080/"
        },
        "outputId": "6da345ab-f229-464e-cfa4-ec07e59f1b1e"
      },
      "outputs": [
        {
          "output_type": "stream",
          "name": "stdout",
          "text": [
            "Requirement already satisfied: emoji in /usr/local/lib/python3.10/dist-packages (2.9.0)\n",
            "Requirement already satisfied: Sastrawi in /usr/local/lib/python3.10/dist-packages (1.0.1)\n"
          ]
        }
      ],
      "source": [
        "# Bagian 1: Import Libraries dan Load Dataset\n",
        "!pip install emoji\n",
        "!pip install Sastrawi\n",
        "\n",
        "from flask import Flask, request, jsonify\n",
        "import nltk\n",
        "import pandas as pd\n",
        "import re\n",
        "from nltk.corpus import stopwords\n",
        "from Sastrawi.Stemmer.StemmerFactory import StemmerFactory\n",
        "from nltk.sentiment.vader import SentimentIntensityAnalyzer\n",
        "from sklearn.feature_extraction.text import CountVectorizer, TfidfVectorizer\n",
        "from sklearn.model_selection import train_test_split, GridSearchCV\n",
        "from sklearn.naive_bayes import MultinomialNB\n",
        "from sklearn.metrics import accuracy_score, confusion_matrix, classification_report"
      ],
      "id": "84260af5-b0fa-4e26-b9b2-3cd43ae7a27e"
    },
    {
      "cell_type": "code",
      "source": [
        "nltk.download('punkt')\n",
        "nltk.download('stopwords')\n",
        "nltk.download('words')\n",
        "nltk.download('vader_lexicon')"
      ],
      "metadata": {
        "id": "uDmTUDAB9IgK",
        "colab": {
          "base_uri": "https://localhost:8080/"
        },
        "outputId": "ecb8f98e-9d13-4872-a05f-e4f265e7d34b"
      },
      "id": "uDmTUDAB9IgK",
      "execution_count": null,
      "outputs": [
        {
          "output_type": "stream",
          "name": "stderr",
          "text": [
            "[nltk_data] Downloading package punkt to /root/nltk_data...\n",
            "[nltk_data]   Package punkt is already up-to-date!\n",
            "[nltk_data] Downloading package stopwords to /root/nltk_data...\n",
            "[nltk_data]   Package stopwords is already up-to-date!\n",
            "[nltk_data] Downloading package words to /root/nltk_data...\n",
            "[nltk_data]   Package words is already up-to-date!\n",
            "[nltk_data] Downloading package vader_lexicon to /root/nltk_data...\n",
            "[nltk_data]   Package vader_lexicon is already up-to-date!\n"
          ]
        },
        {
          "output_type": "execute_result",
          "data": {
            "text/plain": [
              "True"
            ]
          },
          "metadata": {},
          "execution_count": 6
        }
      ]
    },
    {
      "cell_type": "code",
      "execution_count": null,
      "metadata": {
        "id": "5051a45d-1867-44be-bb1e-7e46750b43ad",
        "colab": {
          "base_uri": "https://localhost:8080/"
        },
        "outputId": "1712d181-88da-44e6-ff72-78762fb1ab6f"
      },
      "outputs": [
        {
          "output_type": "stream",
          "name": "stdout",
          "text": [
            "Shape of the dataset:\n",
            "(3245, 9)\n",
            "event_id            int64\n",
            "category_id         int64\n",
            "user_id             int64\n",
            "user_name          object\n",
            "user_past_event    object\n",
            "review_id           int64\n",
            "rating              int64\n",
            "date               object\n",
            "text               object\n",
            "dtype: object\n",
            "      event_id  category_id  user_id      user_name user_past_event  \\\n",
            "0          122            2        3   Fandi Wijaya            6, 1   \n",
            "1         3168            1      185    Budi Wijaya            6, 3   \n",
            "2         1638            6       73   Hadi Santoso            6, 3   \n",
            "3         1649            6      190  Fajar Santoso            1, 3   \n",
            "4         1423            4       32   Ani Setiawan            6, 3   \n",
            "...        ...          ...      ...            ...             ...   \n",
            "2795      3356            3      146   Rudi Susanto            6, 1   \n",
            "2796      1638            6       65   Siti Pratama            5, 6   \n",
            "2797      1417            4       76  Sinta Hidayat            3, 2   \n",
            "2798      1530            5      117     Wahyu Sari            4, 2   \n",
            "2799      1427            4       24  Andi Septiani            2, 2   \n",
            "\n",
            "      review_id  rating       date  \\\n",
            "0        122523       5  6/23/2022   \n",
            "1     316851185       5  5/31/2022   \n",
            "2      16385673       5  5/28/2022   \n",
            "3     164956190       5   5/3/2022   \n",
            "4      14235432       5   5/2/2022   \n",
            "...         ...     ...        ...   \n",
            "2795  335623146       2  5/14/2021   \n",
            "2796   16382665       2   9/5/2023   \n",
            "2797   14172476       2  5/12/2023   \n",
            "2798  153015117       1  11/6/2023   \n",
            "2799   14271424       1  10/3/2023   \n",
            "\n",
            "                                                   text  \n",
            "0     Fasilitas OK, petugas ramah, kebersihan baik, ...  \n",
            "1                      liburan yang sangat menyenangkan  \n",
            "2                   seneng bangett udh lama ga ke dufan  \n",
            "3     Dufan bagus sih buat yang mau refreshing. Semo...  \n",
            "4     Dari proses pembelian tiket sampai masuk ke wa...  \n",
            "...                                                 ...  \n",
            "2795                                     Barau download  \n",
            "2796  Sebenarnya Aplikasinya ok, sangat membantu, ta...  \n",
            "2797                            Gk bs di ganti kota nya  \n",
            "2798  Saya mau review jujur. Ternyata yang memberi r...  \n",
            "2799  Ada apa ya dengan aplikasi traveloka ,, tlp ke...  \n",
            "\n",
            "[2800 rows x 9 columns]\n"
          ]
        }
      ],
      "source": [
        "data = pd.read_csv('/content/sentiment_analysis.csv')\n",
        "print(\"Shape of the dataset:\")\n",
        "print(data.shape)\n",
        "print(data.dtypes)\n",
        "print(data.head(2800))"
      ],
      "id": "5051a45d-1867-44be-bb1e-7e46750b43ad"
    },
    {
      "cell_type": "code",
      "execution_count": null,
      "metadata": {
        "id": "38be147e-2425-439a-bd7b-fb5ff71f0c0d",
        "colab": {
          "base_uri": "https://localhost:8080/",
          "height": 345
        },
        "outputId": "a2384571-800c-4b18-c844-82b90b3849ef"
      },
      "outputs": [
        {
          "output_type": "execute_result",
          "data": {
            "text/plain": [
              "Text(0.5, 0, 'Review rating')"
            ]
          },
          "metadata": {},
          "execution_count": 8
        },
        {
          "output_type": "display_data",
          "data": {
            "text/plain": [
              "<Figure size 600x300 with 1 Axes>"
            ],
            "image/png": "[encoded data removed]"
          },
          "metadata": {}
        }
      ],
      "source": [
        "ax = data['rating'].value_counts().sort_index().plot(kind='bar',\n",
        "          title='Count of Reviews by rating',\n",
        "          figsize=(6, 3))\n",
        "ax.set_xlabel('Review rating')"
      ],
      "id": "38be147e-2425-439a-bd7b-fb5ff71f0c0d"
    },
    {
      "cell_type": "code",
      "execution_count": null,
      "metadata": {
        "id": "8a258bd8-aea9-4969-827d-f8271ba56d9f"
      },
      "outputs": [],
      "source": [
        "#Preprocessing dan Feature Extraction\n",
        "def preprocess_text(text):\n",
        "    if isinstance(text, str):\n",
        "        text = text.lower()\n",
        "        text = re.sub(r'[?|$|.|!_:\")(-+,]', '', text)\n",
        "        text = re.sub(r'\\d+', '', text)\n",
        "        text = re.sub(r\"\\b[a-zA-Z]\\b\", \"\", text)\n",
        "        text = re.sub('\\s+',' ', text)\n",
        "        text = nltk.word_tokenize(text)\n",
        "        stop_words = set(stopwords.words('indonesian'))\n",
        "        text = [word for word in text if word.lower() not in stop_words]\n",
        "        factory = StemmerFactory()\n",
        "        stemmer = factory.create_stemmer()\n",
        "        text = [stemmer.stem(w) for w in text]\n",
        "        return ' '.join(text)\n",
        "    else:\n",
        "        return ''"
      ],
      "id": "8a258bd8-aea9-4969-827d-f8271ba56d9f"
    },
    {
      "cell_type": "code",
      "execution_count": null,
      "metadata": {
        "id": "f21d0064-2f57-4e7f-857c-82c636b27918"
      },
      "outputs": [],
      "source": [
        "data['processed_text'] = data['text'].apply(preprocess_text)"
      ],
      "id": "f21d0064-2f57-4e7f-857c-82c636b27918"
    },
    {
      "cell_type": "code",
      "execution_count": null,
      "metadata": {
        "id": "mSVdekSl28Ag"
      },
      "outputs": [],
      "source": [
        "sid = SentimentIntensityAnalyzer()\n",
        "data['vader_sentiment'] = data['processed_text'].apply(lambda x: 'positive' if sid.polarity_scores(x)['compound'] >= 0.05 else ('negative' if sid.polarity_scores(x)['compound'] <= -0.05 else 'neutral'))\n",
        "# Feature Extraction menggunakan CountVectorizer\n",
        "vocab = CountVectorizer().fit(data['processed_text'])\n",
        "x = vocab.transform(data['processed_text'])"
      ],
      "id": "mSVdekSl28Ag"
    },
    {
      "cell_type": "code",
      "execution_count": null,
      "metadata": {
        "id": "8e9INEmEHBII"
      },
      "outputs": [],
      "source": [
        "#Pembagian Data dan Model Training\n",
        "x_train, x_test, y_train, y_test, s_train, s_test = train_test_split(x, data['rating'], data['vader_sentiment'], test_size=0.2, random_state=100)\n"
      ],
      "id": "8e9INEmEHBII"
    },
    {
      "cell_type": "code",
      "execution_count": null,
      "metadata": {
        "id": "mBmAi4Lbgm1H"
      },
      "outputs": [],
      "source": [
        "# Parameter tuning for Multinomial Naive Bayes\n",
        "param_grid = {'alpha': [0.1, 0.5, 1.0, 1.5, 2.0]}\n",
        "grid_search = GridSearchCV(MultinomialNB(), param_grid, cv=5)\n",
        "grid_search.fit(x_train, y_train)\n",
        "best_mnb = grid_search.best_estimator_"
      ],
      "id": "mBmAi4Lbgm1H"
    },
    {
      "cell_type": "code",
      "execution_count": null,
      "metadata": {
        "id": "blSnX0hnuA-1"
      },
      "outputs": [],
      "source": [
        "# Use TF-IDF vectorization\n",
        "tfidf_vectorizer = TfidfVectorizer().fit(data['processed_text'])\n",
        "x_tfidf = tfidf_vectorizer.transform(data['processed_text'])\n",
        "x_train_tfidf, x_test_tfidf, _, _, _, _ = train_test_split(x_tfidf, data['rating'], data['vader_sentiment'], test_size=0.2, random_state=100)\n"
      ],
      "id": "blSnX0hnuA-1"
    },
    {
      "cell_type": "code",
      "execution_count": null,
      "metadata": {
        "id": "8faa2152-8ce2-4c11-ad41-aa918ea71a89"
      },
      "outputs": [],
      "source": [
        "# Retrain the model with TF-IDF vectorization\n",
        "best_mnb_tfidf = grid_search.best_estimator_\n",
        "best_mnb_tfidf.fit(x_train_tfidf, y_train)\n",
        "pred_mnb_tfidf = best_mnb_tfidf.predict(x_test_tfidf)"
      ],
      "id": "8faa2152-8ce2-4c11-ad41-aa918ea71a89"
    },
    {
      "cell_type": "code",
      "execution_count": null,
      "metadata": {
        "id": "iZKcAZVcebQx",
        "colab": {
          "base_uri": "https://localhost:8080/"
        },
        "outputId": "73d63634-fe4e-4e1a-dbc4-13731c4db253"
      },
      "outputs": [
        {
          "output_type": "stream",
          "name": "stdout",
          "text": [
            "Confusion Matrix for Multinomial Naive Bayes (TF-IDF):\n",
            "[[134   2   0   0   5]\n",
            " [ 78  10   0   2  35]\n",
            " [ 26   3   0   4  38]\n",
            " [  2   0   0   9  85]\n",
            " [  3   0   0   3 210]]\n",
            "Score (TF-IDF): 55.93\n",
            "Classification Report (TF-IDF):\n",
            "              precision    recall  f1-score   support\n",
            "\n",
            "           1       0.55      0.95      0.70       141\n",
            "           2       0.67      0.08      0.14       125\n",
            "           3       0.00      0.00      0.00        71\n",
            "           4       0.50      0.09      0.16        96\n",
            "           5       0.56      0.97      0.71       216\n",
            "\n",
            "    accuracy                           0.56       649\n",
            "   macro avg       0.46      0.42      0.34       649\n",
            "weighted avg       0.51      0.56      0.44       649\n",
            "\n"
          ]
        },
        {
          "output_type": "stream",
          "name": "stderr",
          "text": [
            "/usr/local/lib/python3.10/dist-packages/sklearn/metrics/_classification.py:1344: UndefinedMetricWarning: Precision and F-score are ill-defined and being set to 0.0 in labels with no predicted samples. Use `zero_division` parameter to control this behavior.\n",
            "  _warn_prf(average, modifier, msg_start, len(result))\n",
            "/usr/local/lib/python3.10/dist-packages/sklearn/metrics/_classification.py:1344: UndefinedMetricWarning: Precision and F-score are ill-defined and being set to 0.0 in labels with no predicted samples. Use `zero_division` parameter to control this behavior.\n",
            "  _warn_prf(average, modifier, msg_start, len(result))\n",
            "/usr/local/lib/python3.10/dist-packages/sklearn/metrics/_classification.py:1344: UndefinedMetricWarning: Precision and F-score are ill-defined and being set to 0.0 in labels with no predicted samples. Use `zero_division` parameter to control this behavior.\n",
            "  _warn_prf(average, modifier, msg_start, len(result))\n"
          ]
        }
      ],
      "source": [
        "# Evaluate the model\n",
        "score_mnb_tfidf = round(accuracy_score(y_test, pred_mnb_tfidf) * 100, 2)\n",
        "print(\"Confusion Matrix for Multinomial Naive Bayes (TF-IDF):\")\n",
        "print(confusion_matrix(y_test, pred_mnb_tfidf))\n",
        "print(\"Score (TF-IDF):\", score_mnb_tfidf)\n",
        "print(\"Classification Report (TF-IDF):\")\n",
        "print(classification_report(y_test, pred_mnb_tfidf))"
      ],
      "id": "iZKcAZVcebQx"
    },
    {
      "cell_type": "code",
      "execution_count": null,
      "metadata": {
        "id": "C3srNCdgoNIk"
      },
      "outputs": [],
      "source": [
        "def predict_sentiment(review):\n",
        "    processed_review = preprocess_text(review)\n",
        "    review_vectorized = vocab.transform([processed_review])\n",
        "    sentiment_score = sid.polarity_scores(processed_review)['compound']\n",
        "    rating_prediction = best_mnb.predict(review_vectorized)[0]\n",
        "    if sentiment_score <= -0.05:\n",
        "        predicted_sentiment = 'negative'\n",
        "    elif sentiment_score >= 0.05:\n",
        "        predicted_sentiment = 'positive'\n",
        "    else:\n",
        "        predicted_sentiment = 'neutral'\n",
        "    return rating_prediction, predicted_sentiment"
      ],
      "id": "C3srNCdgoNIk"
    },
    {
      "cell_type": "code",
      "execution_count": null,
      "metadata": {
        "id": "WrU8phYN6ibe",
        "colab": {
          "base_uri": "https://localhost:8080/"
        },
        "outputId": "c3b6debf-893f-4f0b-f67a-790ea288264d"
      },
      "outputs": [
        {
          "output_type": "stream",
          "name": "stdout",
          "text": [
            " * Serving Flask app '__main__'\n",
            " * Debug mode: on\n"
          ]
        },
        {
          "output_type": "stream",
          "name": "stderr",
          "text": [
            "INFO:werkzeug:\u001b[31m\u001b[1mWARNING: This is a development server. Do not use it in a production deployment. Use a production WSGI server instead.\u001b[0m\n",
            " * Running on http://127.0.0.1:5000\n",
            "INFO:werkzeug:\u001b[33mPress CTRL+C to quit\u001b[0m\n",
            "INFO:werkzeug: * Restarting with stat\n"
          ]
        }
      ],
      "source": [
        "app = Flask(__name__)\n",
        "\n",
        "@app.route('/predict', methods=['POST'])\n",
        "def predict():\n",
        "    review = request.json['review']\n",
        "    rating_prediction, sentiment_prediction = predict_sentiment(review)\n",
        "    return jsonify({'rating': rating_prediction, 'sentiment': sentiment_prediction})\n",
        "\n",
        "if __name__ == '__main__':\n",
        "    app.run(debug=True)"
      ],
      "id": "WrU8phYN6ibe"
    },
    {
      "cell_type": "code",
      "execution_count": null,
      "metadata": {
        "id": "k8OJqt1jb-0s"
      },
      "outputs": [],
      "source": [
        "# Model Before Flask\n",
        "def predict_sentiment(review):\n",
        "    processed_review = preprocess_text(review)\n",
        "    review_vectorized = vocab.transform([processed_review])\n",
        "    sentiment_score = sid.polarity_scores(processed_review)['compound']\n",
        "    rating_prediction = best_mnb_tfidf.predict(review_vectorized)[0]\n",
        "    if sentiment_score <= -0.05:\n",
        "        predicted_sentiment = 'negative'\n",
        "    elif sentiment_score >= 0.05:\n",
        "        predicted_sentiment = 'positive'\n",
        "    else:\n",
        "        predicted_sentiment = 'neutral'\n",
        "    return rating_prediction, predicted_sentiment"
      ],
      "id": "k8OJqt1jb-0s"
    },
    {
      "cell_type": "code",
      "execution_count": null,
      "metadata": {
        "colab": {
          "base_uri": "https://localhost:8080/"
        },
        "id": "667dl43Pb-0t",
        "outputId": "03f4ea34-e7bc-4a57-9e79-d6bc2b760f4e"
      },
      "outputs": [
        {
          "output_type": "stream",
          "name": "stdout",
          "text": [
            "Ada apa ini traveloka error kah? Kenapa saya gk bisa melakukan pembayaran menggunakan paylater padahal limit saya masih banyak...\n",
            "Actual Rating: 1\n",
            "Predicted Rating: 1\n",
            "Predicted Sentiment: negative\n"
          ]
        }
      ],
      "source": [
        "pr = data['text'][120]\n",
        "print(pr)\n",
        "print(\"Actual Rating:\", data['rating'][2999])\n",
        "rating_pred, sentiment_pred = predict_sentiment(pr)\n",
        "print(\"Predicted Rating:\", rating_pred)\n",
        "print(\"Predicted Sentiment:\", sentiment_pred)\n"
      ],
      "id": "667dl43Pb-0t"
    }
  ],
  "metadata": {
    "colab": {
      "provenance": []
    },
    "kernelspec": {
      "display_name": "Python 3 (ipykernel)",
      "language": "python",
      "name": "python3"
    },
    "language_info": {
      "codemirror_mode": {
        "name": "ipython",
        "version": 3
      },
      "file_extension": ".py",
      "mimetype": "text/x-python",
      "name": "python",
      "nbconvert_exporter": "python",
      "pygments_lexer": "ipython3",
      "version": "3.9.12"
    }
  },
  "nbformat": 4,
  "nbformat_minor": 5
}