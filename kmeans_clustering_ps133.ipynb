{
  "nbformat": 4,
  "nbformat_minor": 0,
  "metadata": {
    "colab": {
      "provenance": [],
      "include_colab_link": true
    },
    "kernelspec": {
      "name": "python3",
      "display_name": "Python 3"
    },
    "language_info": {
      "name": "python"
    }
  },
  "cells": [
    {
      "cell_type": "markdown",
      "metadata": {
        "id": "view-in-github",
        "colab_type": "text"
      },
      "source": [
        "<a href=\"https://colab.research.google.com/github/fionatjahjono/ml_project/blob/main/kmeans_clustering_ps133.ipynb\" target=\"_parent\"><img src=\"https://colab.research.google.com/assets/colab-badge.svg\" alt=\"Open In Colab\"/></a>"
      ]
    },
    {
      "cell_type": "code",
      "execution_count": null,
      "metadata": {
        "id": "qAHiCV-zV4aY"
      },
      "outputs": [],
      "source": [
        "from flask import Flask, request, jsonify\n",
        "import tensorflow as tf\n",
        "import numpy as np\n",
        "import pandas as pd\n",
        "from sklearn.preprocessing import MinMaxScaler"
      ]
    },
    {
      "cell_type": "code",
      "source": [
        "app = Flask(__name__)\n",
        "\n",
        "def load_and_preprocess_data(user_file, event_file):\n",
        "    # Load user and event data from csv files\n",
        "    user_data = pd.read_csv(user_file)\n",
        "    event_data = pd.read_csv(event_file)\n",
        "\n",
        "    # Convert 'free' to 0 in event_price\n",
        "    event_data[\"event_price\"] = event_data[\"event_price\"].replace('free', 0)\n",
        "\n",
        "    # Convert event_price to numeric\n",
        "    event_data[\"event_price\"] = pd.to_numeric(event_data[\"event_price\"], errors='coerce')\n",
        "\n",
        "    # Drop rows with NaN values in event_price\n",
        "    event_data = event_data.dropna(subset=[\"event_price\"])\n",
        "\n",
        "    # Convert latitude and longitude to numeric, coercing non-numeric values to NaN\n",
        "    user_data[[\"latitude\", \"longitude\"]] = user_data[[\"latitude\", \"longitude\"]].apply(pd.to_numeric, errors='coerce')\n",
        "    event_data[[\"latitude\", \"longitude\"]] = event_data[[\"latitude\", \"longitude\"]].apply(pd.to_numeric, errors='coerce')\n",
        "\n",
        "    # Drop rows with NaN values in latitude or longitude\n",
        "    user_data = user_data.dropna(subset=[\"latitude\", \"longitude\"])\n",
        "    event_data = event_data.dropna(subset=[\"latitude\", \"longitude\"])\n",
        "\n",
        "    # Normalize coordinates\n",
        "    scaler = MinMaxScaler()\n",
        "    user_data[[\"latitude\", \"longitude\"]] = scaler.fit_transform(user_data[[\"latitude\", \"longitude\"]])\n",
        "    event_data[[\"latitude\", \"longitude\"]] = scaler.transform(event_data[[\"latitude\", \"longitude\"]])\n",
        "\n",
        "    return user_data, event_data"
      ],
      "metadata": {
        "id": "7IPvysgPYTPE"
      },
      "execution_count": null,
      "outputs": []
    },
    {
      "cell_type": "code",
      "source": [
        "def calculate_distances(user, events):\n",
        "    user_location = tf.constant([user[\"latitude\"], user[\"longitude\"]], dtype=tf.float32)\n",
        "    event_locations = tf.constant(events[[\"latitude\", \"longitude\"]].values, dtype=tf.float32)\n",
        "\n",
        "    return tf.norm(user_location - event_locations, axis=1)"
      ],
      "metadata": {
        "id": "NL64lgdoYZco"
      },
      "execution_count": null,
      "outputs": []
    },
    {
      "cell_type": "code",
      "source": [
        "def make_prediction(user, events, k):\n",
        "    distances = calculate_distances(user, events)\n",
        "    indices = np.argsort(distances)[:k]\n",
        "    knn_events = events.iloc[indices]\n",
        "\n",
        "    # Calculate weights based on distance\n",
        "    weights = 1 / (np.array(distances)[indices] + 1e-10)  # Add a small constant to avoid division by zero\n",
        "\n",
        "    # Perform weighted voting\n",
        "    weighted_labels = knn_events[\"event_price\"] * weights\n",
        "    weighted_prediction = weighted_labels.sum() / weights.sum()\n",
        "\n",
        "    return weighted_prediction, knn_events"
      ],
      "metadata": {
        "id": "cjzu34X_ItNY"
      },
      "execution_count": null,
      "outputs": []
    },
    {
      "cell_type": "code",
      "source": [
        "@app.route('/predict', methods=['POST'])\n",
        "def predict():\n",
        "    # Get user_id from request\n",
        "    user_id = request.json['user_id']\n",
        "\n",
        "    # Define the value of k\n",
        "    k = 5\n",
        "\n",
        "    # Load and preprocess data\n",
        "    user_data, event_data = load_and_preprocess_data(\"user_table.csv\", \"event_table.csv\")\n",
        "\n",
        "    # Get the user details based on user_id\n",
        "    test_user = user_data[user_data[\"user_id\"] == user_id].iloc[0]\n",
        "\n",
        "    # Make prediction\n",
        "    weighted_prediction, knn_events = make_prediction(test_user, event_data, k)\n",
        "\n",
        "    # Prepare response\n",
        "    response = {\n",
        "        'weighted_prediction': weighted_prediction,\n",
        "        'knn_events': knn_events.to_dict()\n",
        "    }\n",
        "\n",
        "    return jsonify(response)"
      ],
      "metadata": {
        "id": "B80KKmcZIRdv"
      },
      "execution_count": null,
      "outputs": []
    },
    {
      "cell_type": "code",
      "source": [
        "if __name__ == '__main__':\n",
        "    app.run(debug=True)"
      ],
      "metadata": {
        "id": "XBl4jwhjLeQo"
      },
      "execution_count": null,
      "outputs": []
    },
    {
      "cell_type": "code",
      "source": [
        "# test data befor flask\n",
        "k=5\n",
        "user_data, event_data = load_and_preprocess_data(\"user_table.csv\", \"event_table.csv\")"
      ],
      "metadata": {
        "id": "Waoa33Sua_IY"
      },
      "execution_count": null,
      "outputs": []
    },
    {
      "cell_type": "code",
      "source": [
        "# Get the user details based on user_id\n",
        "user_id = 5  # replace 1 with the actual user_id you want to test\n",
        "test_user = user_data[user_data[\"user_id\"] == user_id].iloc[0]"
      ],
      "metadata": {
        "id": "dgrAXdSaXKrP"
      },
      "execution_count": null,
      "outputs": []
    },
    {
      "cell_type": "code",
      "source": [
        "# Make prediction\n",
        "weighted_prediction, knn_events = make_prediction(test_user, event_data, k)"
      ],
      "metadata": {
        "id": "HkkxTfWdYxZj"
      },
      "execution_count": null,
      "outputs": []
    },
    {
      "cell_type": "code",
      "source": [
        "# Print the recommended events\n",
        "print(\"\\nWeighted Prediction for Event Price:\")\n",
        "print(weighted_prediction)\n",
        "\n",
        "for i, event in knn_events.iterrows():\n",
        "    print(f\"Event {i+1}:\")\n",
        "    print(f\"Name: {event['event_name']}\")\n",
        "    print(f\"Location: {event['latitude']}, {event['longitude']}\")\n",
        "    print(f\"Price: {event['event_price']}\")\n",
        "    print(\"------------------------\")\n",
        "\n",
        "print(\"\\nEvents near the user:\")\n",
        "print(knn_events)"
      ],
      "metadata": {
        "id": "zujLNTTvacwb"
      },
      "execution_count": null,
      "outputs": []
    }
  ]
}